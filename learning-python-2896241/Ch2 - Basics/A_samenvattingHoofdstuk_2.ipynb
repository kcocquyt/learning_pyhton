{
 "cells": [
  {
   "cell_type": "code",
   "execution_count": 1,
   "metadata": {},
   "outputs": [],
   "source": [
    "myint = 5                           #integer\n",
    "myfloat = 13.2                      #floating point\n",
    "mystr = \"This is a string\"          #string\n",
    "mybool = True                       #boolian\n",
    "mylist = [0, 1, \"two\", 3.2, False]  #list\n",
    "mytuple = (0, 1, 2)                 #tuple\n",
    "mydict = {\"one\" : 1, \"two\" : 2}     #dictionairy"
   ]
  },
  {
   "cell_type": "code",
   "execution_count": 2,
   "metadata": {},
   "outputs": [
    {
     "name": "stdout",
     "output_type": "stream",
     "text": [
      "two\n",
      "1\n"
     ]
    }
   ],
   "source": [
    "# to access a member of a sequence type, use []\n",
    "print(mylist[2])\n",
    "print(mytuple[1])"
   ]
  },
  {
   "cell_type": "code",
   "execution_count": null,
   "metadata": {},
   "outputs": [
    {
     "name": "stdout",
     "output_type": "stream",
     "text": [
      "def\n",
      "This is a string\n"
     ]
    }
   ],
   "source": [
    "# definition program local variable\n",
    "\n",
    "# Global vs. local variables in functions\n",
    "def someFunction():\n",
    "    #global mystr\n",
    "    mystr = \"def\"\n",
    "    print (mystr)\n",
    "\n",
    "someFunction()\n",
    "print (mystr) "
   ]
  },
  {
   "cell_type": "code",
   "execution_count": 13,
   "metadata": {},
   "outputs": [
    {
     "name": "stdout",
     "output_type": "stream",
     "text": [
      "0\n",
      "1\n",
      "2\n",
      "3\n",
      "4\n",
      "5\n",
      "6\n",
      "7\n",
      "8\n",
      "9\n",
      "Mon\n",
      "Tue\n",
      "Wed\n",
      "Thu\n",
      "Fri\n",
      "Sat\n",
      "Sun\n",
      "5\n",
      "7\n",
      "9\n",
      "0 Mon\n",
      "1 Tue\n",
      "2 Wed\n",
      "3 Thu\n",
      "4 Fri\n",
      "5 Sat\n",
      "6 Sun\n"
     ]
    }
   ],
   "source": [
    "# loop functions\n",
    "\n",
    "# Example file for working with loops\n",
    "# LinkedIn Learning Python course by Joe Marini\n",
    "#\n",
    "\n",
    "\n",
    "def main():\n",
    "    x = 0\n",
    "    \n",
    "    # define a while loop\n",
    "    while (x < 5):\n",
    "        print(x)\n",
    "        x = x + 1\n",
    "\n",
    "    # define a for loop\n",
    "    for x in range(5,10):\n",
    "        print (x)\n",
    "      \n",
    "    # use a for loop over a collection\n",
    "    days = [\"Mon\",\"Tue\",\"Wed\",\"Thu\",\"Fri\",\"Sat\",\"Sun\"]\n",
    "    for d in days:\n",
    "        print (d)\n",
    "    \n",
    "    # use the break and continue statements\n",
    "    for x in range(5,10):\n",
    "        if (x == 18): break\n",
    "        if (x % 2 == 0): continue\n",
    "        print (x)\n",
    "    \n",
    "    # using the enumerate() function to get index \n",
    "    days = [\"Mon\",\"Tue\",\"Wed\",\"Thu\",\"Fri\",\"Sat\",\"Sun\"]\n",
    "    for i, d in enumerate(days):\n",
    "        print (i, d)\n",
    "  \n",
    "if __name__ == \"__main__\":\n",
    "    main()"
   ]
  },
  {
   "cell_type": "code",
   "execution_count": 14,
   "metadata": {},
   "outputs": [
    {
     "name": "stdout",
     "output_type": "stream",
     "text": [
      "I am a function\n",
      "I am a function\n",
      "None\n",
      "<function func1 at 0x000001CA99582F20>\n",
      "10   20\n",
      "10   20\n",
      "None\n",
      "27\n",
      "2\n",
      "power:  8\n",
      "4\n",
      "53\n"
     ]
    }
   ],
   "source": [
    "# LinkedIn Learning Python course by Joe Marini\n",
    "\n",
    "# define a basic function\n",
    "def func1():\n",
    "    print(\"I am a function\")\n",
    "\n",
    "# function that takes arguments\n",
    "def func2(arg1, arg2):\n",
    "    print(arg1, \" \", arg2)\n",
    "\n",
    "# function that returns a value\n",
    "def cube(x):\n",
    "    return x*x*x\n",
    "\n",
    "# function with default value for an argument\n",
    "def power(num, x=1):\n",
    "    result = 1\n",
    "    for i in range(x):\n",
    "        result = result * num\n",
    "    return result\n",
    "\n",
    "# function with variable number of arguments\n",
    "def multi_add(*args):\n",
    "    result = 0\n",
    "    for x in args:\n",
    "        result = result + x\n",
    "    return result\n",
    "\n",
    "\n",
    "func1()\n",
    "print(func1())\n",
    "print(func1)\n",
    "func2(10, 20)\n",
    "print(func2(10, 20))\n",
    "print(cube(3))\n",
    "print(power(2))\n",
    "print(\"power: \",power(2, 3))\n",
    "print(power(x=2, num=2))\n",
    "print(multi_add(4, 5, 10, 4, 10, 20))\n"
   ]
  },
  {
   "cell_type": "code",
   "execution_count": null,
   "metadata": {},
   "outputs": [],
   "source": []
  }
 ],
 "metadata": {
  "kernelspec": {
   "display_name": "education",
   "language": "python",
   "name": "python3"
  },
  "language_info": {
   "codemirror_mode": {
    "name": "ipython",
    "version": 3
   },
   "file_extension": ".py",
   "mimetype": "text/x-python",
   "name": "python",
   "nbconvert_exporter": "python",
   "pygments_lexer": "ipython3",
   "version": "3.12.7"
  }
 },
 "nbformat": 4,
 "nbformat_minor": 2
}
