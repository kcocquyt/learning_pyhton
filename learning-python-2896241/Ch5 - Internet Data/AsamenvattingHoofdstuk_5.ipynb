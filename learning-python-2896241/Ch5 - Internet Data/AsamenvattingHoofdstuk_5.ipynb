{
 "cells": [
  {
   "cell_type": "markdown",
   "metadata": {},
   "source": [
    "html  xml\n"
   ]
  },
  {
   "cell_type": "code",
   "execution_count": 2,
   "metadata": {},
   "outputs": [
    {
     "name": "stdout",
     "output_type": "stream",
     "text": [
      "Title: Sample HTML\n",
      "Heading: Welcome to the Sample HTML\n",
      "Paragraph: This is a paragraph of text.\n",
      "Link: Example Link (https://google.com)\n"
     ]
    }
   ],
   "source": [
    "from bs4 import BeautifulSoup\n",
    "\n",
    "# Read the HTML file\n",
    "with open('sample_copilot.html', 'r') as file:\n",
    "    html_content = file.read()\n",
    "\n",
    "# Parse the HTML content\n",
    "soup = BeautifulSoup(html_content, 'html.parser')\n",
    "\n",
    "# Extract and print the title\n",
    "title = soup.title.string\n",
    "print(f\"Title: {title}\")\n",
    "\n",
    "# Extract and print the heading\n",
    "heading = soup.h1.string\n",
    "print(f\"Heading: {heading}\")\n",
    "\n",
    "# Extract and print the paragraph text\n",
    "paragraph = soup.p.string\n",
    "print(f\"Paragraph: {paragraph}\")\n",
    "\n",
    "# Extract and print the link URL and text\n",
    "link = soup.a\n",
    "link_url = link['href']\n",
    "link_text = link.string\n",
    "print(f\"Link: {link_text} ({link_url})\")"
   ]
  },
  {
   "cell_type": "code",
   "execution_count": null,
   "metadata": {},
   "outputs": [],
   "source": []
  }
 ],
 "metadata": {
  "kernelspec": {
   "display_name": "education",
   "language": "python",
   "name": "python3"
  },
  "language_info": {
   "codemirror_mode": {
    "name": "ipython",
    "version": 3
   },
   "file_extension": ".py",
   "mimetype": "text/x-python",
   "name": "python",
   "nbconvert_exporter": "python",
   "pygments_lexer": "ipython3",
   "version": "3.12.7"
  }
 },
 "nbformat": 4,
 "nbformat_minor": 2
}
