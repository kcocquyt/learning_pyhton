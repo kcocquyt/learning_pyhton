{
 "cells": [
  {
   "cell_type": "code",
   "execution_count": 41,
   "metadata": {},
   "outputs": [
    {
     "name": "stdout",
     "output_type": "stream",
     "text": [
      "This is line 1\n",
      "\n",
      "This is line 2\n",
      "\n",
      "This is line 3\n",
      "\n",
      "This is line 4\n",
      "\n",
      "This is line 5\n",
      "\n",
      "This is line 6\n",
      "\n",
      "This is line 7\n",
      "\n",
      "This is line 8\n",
      "\n",
      "This is line 9\n",
      "\n",
      "This is line 10\n",
      "\n",
      "\n"
     ]
    }
   ],
   "source": [
    "import os\n",
    "from os import path\n",
    "import datetime\n",
    "from datetime import date, time, timedelta\n",
    "import time\n",
    "from datetime import datetime\n",
    "\n",
    "\n",
    "# LinkedIn Learning Python course by Joe Marini\n",
    "#\n",
    "\n",
    "\n",
    "def main():  \n",
    "    # Open a file for writing and create it if it doesn't exist\n",
    "    f = open(\"learn_file.txt\",\"w+\")\n",
    "    \n",
    "    # write some lines of data to the file\n",
    "    for i in range(10):\n",
    "        f.write(\"This is line %d\\r\\n\" % (i+1))\n",
    "    \n",
    "    # close the file when done\n",
    "    f.close()\n",
    "    \n",
    "    # Open the file back up and read the contents\n",
    "    f = open(\"Learn_file.txt\",\"r\")\n",
    "    if f.mode == 'r': # check to make sure that the file was opened\n",
    "        # use the read() function to read the entire file\n",
    "        contents = f.read()\n",
    "        print (contents)\n",
    "      \n",
    "        fl = f.readlines() # readlines reads the individual lines into a list\n",
    "        for x in fl:\n",
    "            print (x)\n",
    "    \n",
    "if __name__ == \"__main__\":\n",
    "    main()"
   ]
  },
  {
   "cell_type": "code",
   "execution_count": 30,
   "metadata": {},
   "outputs": [],
   "source": [
    "#add tekst in the end\n",
    "\n",
    "# Open the file for appending text to the end\n",
    "f = open(\"learn_file.txt\",\"a+\")\n",
    "f.write(\"This is a line in the end \\r\")\n",
    " # close the file when done\n",
    "f.close()"
   ]
  },
  {
   "cell_type": "code",
   "execution_count": 34,
   "metadata": {},
   "outputs": [],
   "source": [
    "#ingave naam en wegschrijven in bestand\n",
    "\n",
    "f = open(\"learn_file.txt\",\"a+\")\n",
    "lst = [] \n",
    "for i in range(3): \n",
    "    name = input(\"Enter the name of the employee: \") \n",
    "    lst.append(\"Naam :\"+ name + '\\n') \n",
    "f.writelines(lst)\n",
    "f.close()"
   ]
  },
  {
   "cell_type": "code",
   "execution_count": 37,
   "metadata": {},
   "outputs": [
    {
     "name": "stdout",
     "output_type": "stream",
     "text": [
      "nt\n",
      "Item exists: True\n",
      "Item is a file: True\n",
      "Item is a directory: False\n",
      "Item's path: C:\\Battery_C\\project\\Opleiding_linkedin\\learning-python-2896241\\Ch3 - Files\\learn_file.txt\n",
      "Item's path and name: ('C:\\\\Battery_C\\\\project\\\\Opleiding_linkedin\\\\learning-python-2896241\\\\Ch3 - Files', 'learn_file.txt')\n",
      "Mon Dec  2 17:52:29 2024\n",
      "2024-12-02 17:52:29.677209\n",
      "It has been 0:01:50.294727 since the file was modified\n",
      "Or, 110.294727 seconds\n"
     ]
    }
   ],
   "source": [
    "# info bestand\n",
    "\n",
    "def main():\n",
    "    # Print the name of the OS\n",
    "    print (os.name)\n",
    "    \n",
    "    # Check for item existence and type\n",
    "    print (\"Item exists: \" + str(path.exists(\"learn_file.txt\")))\n",
    "    print (\"Item is a file: \" + str(path.isfile(\"learn_file.txt\")))\n",
    "    print (\"Item is a directory: \" + str(path.isdir(\"learn_filee.txt\")))\n",
    "    \n",
    "    # Work with file paths\n",
    "    print (\"Item's path: \" + str(path.realpath(\"learn_file.txt\")))\n",
    "    print (\"Item's path and name: \" + str(path.split(path.realpath(\"learn_file.txt\"))))\n",
    "    \n",
    "    # Get the modification time\n",
    "    t = time.ctime(path.getmtime(\"learn_file.txt\"))\n",
    "    print (t)\n",
    "    print (datetime.datetime.fromtimestamp(path.getmtime(\"learn_file.txt\")))\n",
    "    \n",
    "    # Calculate how long ago the item was modified\n",
    "    td= datetime.datetime.now() - datetime.datetime.fromtimestamp(path.getmtime(\"learn_file.txt\"))\n",
    "    print (\"It has been \" + str(td) + \" since the file was modified\")\n",
    "    print (\"Or, \" + str(td.total_seconds()) + \" seconds\")\n",
    "\n",
    "if __name__ == \"__main__\":\n",
    "    main()"
   ]
  },
  {
   "cell_type": "markdown",
   "metadata": {},
   "source": []
  },
  {
   "cell_type": "code",
   "execution_count": 45,
   "metadata": {},
   "outputs": [
    {
     "name": "stdout",
     "output_type": "stream",
     "text": [
      "LearnTekst_18.13.54_2024-12-02.txt\n"
     ]
    }
   ],
   "source": [
    "\n",
    "output_filename = datetime.now().strftime(\"LearnTekst_%H.%M.%S_%Y-%m-%d.txt\")\n",
    "f = open(output_filename ,\"w+\")\n",
    "    \n",
    "    # write some lines of data to the file\n",
    "for i in range(10):\n",
    "    f.write(\"This is line %d\\r\" % (i+1))\n",
    "    \n",
    "    # close the file when done\n",
    "f.close()\n",
    "print(output_filename)\n"
   ]
  }
 ],
 "metadata": {
  "kernelspec": {
   "display_name": "education",
   "language": "python",
   "name": "python3"
  },
  "language_info": {
   "codemirror_mode": {
    "name": "ipython",
    "version": 3
   },
   "file_extension": ".py",
   "mimetype": "text/x-python",
   "name": "python",
   "nbconvert_exporter": "python",
   "pygments_lexer": "ipython3",
   "version": "3.12.7"
  }
 },
 "nbformat": 4,
 "nbformat_minor": 2
}
